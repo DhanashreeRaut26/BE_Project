{
 "cells": [
  {
   "cell_type": "code",
   "execution_count": 1,
   "metadata": {},
   "outputs": [],
   "source": [
    "import pandas as pd\n",
    "\n",
    "dataset=pd.read_csv('dataFeb-24-2021.csv',encoding = \"ISO-8859-1\",sep = ',')"
   ]
  },
  {
   "cell_type": "code",
   "execution_count": 2,
   "metadata": {},
   "outputs": [
    {
     "data": {
      "text/html": [
       "<div>\n",
       "<style scoped>\n",
       "    .dataframe tbody tr th:only-of-type {\n",
       "        vertical-align: middle;\n",
       "    }\n",
       "\n",
       "    .dataframe tbody tr th {\n",
       "        vertical-align: top;\n",
       "    }\n",
       "\n",
       "    .dataframe thead th {\n",
       "        text-align: right;\n",
       "    }\n",
       "</style>\n",
       "<table border=\"1\" class=\"dataframe\">\n",
       "  <thead>\n",
       "    <tr style=\"text-align: right;\">\n",
       "      <th></th>\n",
       "      <th>lattitude</th>\n",
       "      <th>longitude</th>\n",
       "      <th>Direction</th>\n",
       "      <th>Speed</th>\n",
       "      <th>startjunction</th>\n",
       "      <th>endjunction</th>\n",
       "    </tr>\n",
       "  </thead>\n",
       "  <tbody>\n",
       "    <tr>\n",
       "      <th>0</th>\n",
       "      <td>-40.33558</td>\n",
       "      <td>55.01337</td>\n",
       "      <td>from</td>\n",
       "      <td>67</td>\n",
       "      <td>Timon</td>\n",
       "      <td>Tando Allahyar</td>\n",
       "    </tr>\n",
       "    <tr>\n",
       "      <th>1</th>\n",
       "      <td>-5.38348</td>\n",
       "      <td>-88.56949</td>\n",
       "      <td>from</td>\n",
       "      <td>73</td>\n",
       "      <td>Kashmore</td>\n",
       "      <td>Cap-Rouge</td>\n",
       "    </tr>\n",
       "    <tr>\n",
       "      <th>2</th>\n",
       "      <td>-63.69830</td>\n",
       "      <td>-20.80947</td>\n",
       "      <td>from</td>\n",
       "      <td>27</td>\n",
       "      <td>Sherani</td>\n",
       "      <td>MatarÃ³</td>\n",
       "    </tr>\n",
       "    <tr>\n",
       "      <th>3</th>\n",
       "      <td>-66.68230</td>\n",
       "      <td>-10.24431</td>\n",
       "      <td>from</td>\n",
       "      <td>47</td>\n",
       "      <td>Wandsworth</td>\n",
       "      <td>Birmingham</td>\n",
       "    </tr>\n",
       "    <tr>\n",
       "      <th>4</th>\n",
       "      <td>82.20492</td>\n",
       "      <td>45.92146</td>\n",
       "      <td>from</td>\n",
       "      <td>27</td>\n",
       "      <td>Ciudad Santa Catarina</td>\n",
       "      <td>TomaszÃ³w Mazowiecki</td>\n",
       "    </tr>\n",
       "  </tbody>\n",
       "</table>\n",
       "</div>"
      ],
      "text/plain": [
       "   lattitude  longitude Direction  Speed          startjunction  \\\n",
       "0  -40.33558   55.01337      from     67                  Timon   \n",
       "1   -5.38348  -88.56949      from     73               Kashmore   \n",
       "2  -63.69830  -20.80947      from     27                Sherani   \n",
       "3  -66.68230  -10.24431      from     47             Wandsworth   \n",
       "4   82.20492   45.92146      from     27  Ciudad Santa Catarina   \n",
       "\n",
       "            endjunction  \n",
       "0        Tando Allahyar  \n",
       "1             Cap-Rouge  \n",
       "2               MatarÃ³  \n",
       "3            Birmingham  \n",
       "4  TomaszÃ³w Mazowiecki  "
      ]
     },
     "execution_count": 2,
     "metadata": {},
     "output_type": "execute_result"
    }
   ],
   "source": [
    "dataset.head()"
   ]
  },
  {
   "cell_type": "code",
   "execution_count": 3,
   "metadata": {
    "scrolled": true
   },
   "outputs": [
    {
     "data": {
      "text/plain": [
       "lattitude              -40.3356\n",
       "longitude               55.0134\n",
       "Direction                  from\n",
       "Speed                        67\n",
       "startjunction             Timon\n",
       "endjunction      Tando Allahyar\n",
       "Name: 0, dtype: object"
      ]
     },
     "execution_count": 3,
     "metadata": {},
     "output_type": "execute_result"
    }
   ],
   "source": [
    "dataset.loc[0]"
   ]
  },
  {
   "cell_type": "code",
   "execution_count": 4,
   "metadata": {},
   "outputs": [
    {
     "name": "stdout",
     "output_type": "stream",
     "text": [
      "Result: 13721.90528995001\n"
     ]
    },
    {
     "data": {
      "text/plain": [
       "13721.90528995001"
      ]
     },
     "execution_count": 4,
     "metadata": {},
     "output_type": "execute_result"
    }
   ],
   "source": [
    "from math import sin, cos, sqrt, atan2, radians\n",
    "\n",
    "# approximate radius of earth in km\n",
    "R = 6373.0\n",
    "def calculateNearby(data):\n",
    "    \n",
    "    lat1 = radians(data[0])\n",
    "    lon1 = radians(data[1])\n",
    "    lat2 = radians(data[2])\n",
    "    lon2 = radians(data[3])\n",
    "\n",
    "    dlon = lon2 - lon1\n",
    "    dlat = lat2 - lat1\n",
    "\n",
    "    a = sin(dlat / 2)**2 + cos(lat1) * cos(lat2) * sin(dlon / 2)**2\n",
    "    c = 2 * atan2(sqrt(a), sqrt(1 - a))\n",
    "\n",
    "    distance = R * c\n",
    "\n",
    "    print(\"Result:\", distance)\n",
    "    return distance\n",
    "    \n",
    "datalist=[dataset.loc[0]['lattitude'],dataset.loc[0]['longitude'],dataset.loc[1]['lattitude'],dataset.loc[1]['longitude']]\n",
    "calculateNearby(datalist)"
   ]
  },
  {
   "cell_type": "code",
   "execution_count": 5,
   "metadata": {},
   "outputs": [
    {
     "name": "stdout",
     "output_type": "stream",
     "text": [
      "Result: 13721.90528995001\n",
      "Result: 8393.276050187267\n",
      "Result: 593.2312806452937\n",
      "Result: 16866.432232972227\n",
      "Result: 6481.85321889108\n",
      "Result: 4692.566125541863\n",
      "Result: 1186.2193962471888\n",
      "Result: 15638.473589406854\n",
      "Result: 9423.919232065444\n",
      "Result: 10162.98917140089\n",
      "Result: 1409.0415282579938\n",
      "Result: 7326.503232685384\n",
      "Result: 10450.864073227885\n",
      "Result: 3025.3497296924124\n",
      "Result: 10503.7663424766\n",
      "Result: 16852.46334834994\n",
      "Result: 7902.146813510391\n",
      "Result: 15044.951394682706\n",
      "Result: 15633.170214922731\n",
      "Result: 14059.63235412491\n",
      "Result: 6969.042056223138\n",
      "Result: 5585.774799779828\n",
      "Result: 4015.490756872385\n",
      "Result: 18106.652189002874\n",
      "Result: 2323.5743018274507\n",
      "Result: 8317.521194952877\n",
      "Result: 12808.695636837892\n",
      "Result: 15019.49960733899\n",
      "Result: 16321.500621671123\n",
      "Result: 5987.90500526573\n",
      "Result: 5741.730841967623\n",
      "Result: 11224.629545905327\n",
      "Result: 15617.286216839515\n",
      "Result: 7973.217570973104\n",
      "Result: 6657.787453371722\n",
      "Result: 2637.2184106828986\n",
      "Result: 502.00509297118646\n",
      "Result: 2605.4291277425077\n",
      "Result: 13146.444200220834\n",
      "Result: 9068.44038068191\n",
      "Result: 12132.37009682071\n",
      "Result: 14684.012955490074\n",
      "Result: 10300.095032984555\n",
      "Result: 10402.718578877173\n",
      "Result: 6982.5930286164385\n",
      "Result: 9070.936270640279\n",
      "Result: 4246.288495193347\n",
      "Result: 16588.298678602\n",
      "Result: 15545.849258783213\n",
      "Result: 12960.572130142078\n",
      "Result: 6348.9245091020575\n",
      "Result: 8914.501326377818\n",
      "Result: 13494.653882773468\n",
      "Result: 5760.378556307909\n",
      "Result: 18471.39260916768\n",
      "Result: 12871.136728492756\n",
      "Result: 13179.421752746866\n",
      "Result: 16703.461555734244\n",
      "Result: 13857.528663151661\n",
      "Result: 13680.555254703964\n",
      "Result: 15132.297246128517\n",
      "Result: 10331.290590208926\n",
      "Result: 2152.676776173314\n",
      "Result: 1763.6652466934265\n",
      "Result: 8750.614758194812\n",
      "Result: 10292.33673376528\n",
      "Result: 11158.825010170482\n",
      "Result: 6687.619497229136\n",
      "Result: 7329.337440531952\n",
      "Result: 11758.51098191116\n",
      "Result: 17226.891794404768\n",
      "Result: 8100.408525748375\n",
      "Result: 4382.027949162246\n",
      "Result: 15934.85583272569\n",
      "Result: 18317.353664909664\n",
      "Result: 4793.124426275201\n",
      "Result: 15219.365731400025\n",
      "Result: 15771.583875836923\n",
      "Result: 5685.5446066695695\n",
      "Result: 11484.298027341973\n",
      "Result: 12188.874175114823\n",
      "Result: 8360.705641047543\n",
      "Result: 16335.035691926887\n",
      "Result: 11709.480646180986\n",
      "Result: 7552.789276930536\n",
      "Result: 3436.2905452386544\n",
      "Result: 16939.10425285466\n",
      "Result: 250.2159276279981\n",
      "Result: 1950.2325426296934\n",
      "Result: 4833.175097886763\n",
      "Result: 9420.039391693177\n",
      "Result: 5409.138587848363\n",
      "Result: 6287.647003402651\n",
      "Result: 12561.84858671305\n",
      "Result: 18074.15429755394\n",
      "Result: 7271.575268479819\n",
      "Result: 18538.823335340112\n",
      "Result: 11517.684070431264\n",
      "Result: 8519.857631187673\n"
     ]
    }
   ],
   "source": [
    "nearbylist=[]\n",
    "for il in range(len(dataset)-1):\n",
    "    datalist=[dataset.loc[il]['lattitude'],dataset.loc[il]['longitude'],dataset.loc[il+1]['lattitude'],dataset.loc[il+1]['longitude']]\n",
    "    resultobtained=calculateNearby(datalist)\n",
    "    if int(resultobtained)<10000:\n",
    "        nearbylist.append(str(il)+\",\"+str(il+1))\n",
    "        \n",
    "        "
   ]
  },
  {
   "cell_type": "code",
   "execution_count": 6,
   "metadata": {},
   "outputs": [
    {
     "data": {
      "text/plain": [
       "['1,2',\n",
       " '2,3',\n",
       " '4,5',\n",
       " '5,6',\n",
       " '6,7',\n",
       " '8,9',\n",
       " '10,11',\n",
       " '11,12',\n",
       " '13,14',\n",
       " '16,17',\n",
       " '20,21',\n",
       " '21,22',\n",
       " '22,23',\n",
       " '24,25',\n",
       " '25,26',\n",
       " '29,30',\n",
       " '30,31',\n",
       " '33,34',\n",
       " '34,35',\n",
       " '35,36',\n",
       " '36,37',\n",
       " '37,38',\n",
       " '39,40',\n",
       " '44,45',\n",
       " '45,46',\n",
       " '46,47',\n",
       " '50,51',\n",
       " '51,52',\n",
       " '53,54',\n",
       " '62,63',\n",
       " '63,64',\n",
       " '64,65',\n",
       " '67,68',\n",
       " '68,69',\n",
       " '71,72',\n",
       " '72,73',\n",
       " '75,76',\n",
       " '78,79',\n",
       " '81,82',\n",
       " '84,85',\n",
       " '85,86',\n",
       " '87,88',\n",
       " '88,89',\n",
       " '89,90',\n",
       " '90,91',\n",
       " '91,92',\n",
       " '92,93',\n",
       " '95,96',\n",
       " '98,99']"
      ]
     },
     "execution_count": 6,
     "metadata": {},
     "output_type": "execute_result"
    }
   ],
   "source": [
    "nearbylist"
   ]
  },
  {
   "cell_type": "code",
   "execution_count": 6,
   "metadata": {},
   "outputs": [
    {
     "ename": "NameError",
     "evalue": "name 'nearbylist' is not defined",
     "output_type": "error",
     "traceback": [
      "\u001b[1;31m---------------------------------------------------------------------------\u001b[0m",
      "\u001b[1;31mNameError\u001b[0m                                 Traceback (most recent call last)",
      "\u001b[1;32m<ipython-input-6-192b8a397334>\u001b[0m in \u001b[0;36m<module>\u001b[1;34m\u001b[0m\n\u001b[0;32m      1\u001b[0m \u001b[0mdata\u001b[0m\u001b[1;33m=\u001b[0m\u001b[1;34m'the vehicle id that are near to each other'\u001b[0m\u001b[1;33m\u001b[0m\u001b[1;33m\u001b[0m\u001b[0m\n\u001b[1;32m----> 2\u001b[1;33m \u001b[0mprint\u001b[0m\u001b[1;33m(\u001b[0m\u001b[0mdata\u001b[0m\u001b[1;33m,\u001b[0m\u001b[0mnearbylist\u001b[0m\u001b[1;33m)\u001b[0m\u001b[1;33m\u001b[0m\u001b[1;33m\u001b[0m\u001b[0m\n\u001b[0m",
      "\u001b[1;31mNameError\u001b[0m: name 'nearbylist' is not defined"
     ]
    }
   ],
   "source": [
    "data='the vehicle id that are near to each other'\n",
    "print(data,nearbylist)"
   ]
  },
  {
   "cell_type": "code",
   "execution_count": 8,
   "metadata": {},
   "outputs": [
    {
     "name": "stdout",
     "output_type": "stream",
     "text": [
      "lengthofneighbourhoodvehicles 49\n"
     ]
    }
   ],
   "source": [
    "lengthofneighbourhoodvehicles=len(nearbylist)\n",
    "\n",
    "print(\"lengthofneighbourhoodvehicles\",lengthofneighbourhoodvehicles)"
   ]
  },
  {
   "cell_type": "code",
   "execution_count": 4,
   "metadata": {},
   "outputs": [
    {
     "name": "stdout",
     "output_type": "stream",
     "text": [
      "Yes congestion is going to occur\n"
     ]
    }
   ],
   "source": [
    "testcount=[49,90,100,105,250,350,400,509]\n",
    "\n",
    "if (all(i < j for i, j in zip(testcount, testcount[1:]))):\n",
    "    print(\"Yes congestion is going to occur\")\n",
    "else:\n",
    "    print(\"No congestion will not occur\")"
   ]
  },
  {
   "cell_type": "code",
   "execution_count": null,
   "metadata": {},
   "outputs": [],
   "source": []
  }
 ],
 "metadata": {
  "kernelspec": {
   "display_name": "Python 3",
   "language": "python",
   "name": "python3"
  },
  "language_info": {
   "codemirror_mode": {
    "name": "ipython",
    "version": 3
   },
   "file_extension": ".py",
   "mimetype": "text/x-python",
   "name": "python",
   "nbconvert_exporter": "python",
   "pygments_lexer": "ipython3",
   "version": "3.7.6"
  }
 },
 "nbformat": 4,
 "nbformat_minor": 5
}
